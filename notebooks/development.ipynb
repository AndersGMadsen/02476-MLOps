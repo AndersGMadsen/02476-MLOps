{
 "cells": [
  {
   "cell_type": "code",
   "execution_count": 6,
   "metadata": {},
   "outputs": [],
   "source": [
    "from torch.utils.data import DataLoader\n",
    "from torchvision import transforms\n",
    "import torch as nn\n",
    "from model import Network\n",
    "\n",
    "from tqdm import tqdm\n",
    "from src.data import data\n",
    "\n",
    "from matplotlib import pyplot as plt\n",
    "\n",
    "import numpy as np"
   ]
  },
  {
   "cell_type": "code",
   "execution_count": 7,
   "metadata": {},
   "outputs": [],
   "source": [
    "dir = \"data/raw\"\n",
    "\n",
    "transform = transforms.Compose([transforms.ToTensor(),\n",
    "                            transforms.Normalize(0.13207851, 0.30989197)])\n",
    "                            \n",
    "train_data = data.CorruptMNIST(root_dir = dir, train = True, transform = transform)\n",
    "test_data = data.CorruptMNIST(root_dir = dir, train = False, transform = transform)\n",
    "\n",
    "train_data, train_label = next(iter(DataLoader(train_data, batch_size=len(train_data))))\n",
    "test_data, test_label = next(iter(DataLoader(test_data, batch_size=len(test_data))))\n",
    "\n",
    "processed_dataset = {\"train\": (train_data, train_label),\n",
    "                     \"test\": (test_data, test_label)}\n",
    "\n",
    "nn.save(processed_dataset, \"test.pkl\")                     "
   ]
  }
 ],
 "metadata": {
  "kernelspec": {
   "display_name": "mlops",
   "language": "python",
   "name": "python3"
  },
  "language_info": {
   "codemirror_mode": {
    "name": "ipython",
    "version": 3
   },
   "file_extension": ".py",
   "mimetype": "text/x-python",
   "name": "python",
   "nbconvert_exporter": "python",
   "pygments_lexer": "ipython3",
   "version": "3.10.8 (main, Nov 24 2022, 14:13:03) [GCC 11.2.0]"
  },
  "orig_nbformat": 4,
  "vscode": {
   "interpreter": {
    "hash": "711894fe46f48b21067b2b953f93b74b5e8a4981b501a3be7009b6012890c677"
   }
  }
 },
 "nbformat": 4,
 "nbformat_minor": 2
}
