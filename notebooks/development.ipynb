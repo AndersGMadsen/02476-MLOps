{
 "cells": [
  {
   "cell_type": "code",
   "execution_count": 1,
   "metadata": {},
   "outputs": [
    {
     "name": "stderr",
     "output_type": "stream",
     "text": [
      "/home/williamtheodor/anaconda3/envs/MLOps/lib/python3.10/site-packages/tqdm/auto.py:22: TqdmWarning: IProgress not found. Please update jupyter and ipywidgets. See https://ipywidgets.readthedocs.io/en/stable/user_install.html\n",
      "  from .autonotebook import tqdm as notebook_tqdm\n"
     ]
    }
   ],
   "source": [
    "import torch as nn\n",
    "from torch.utils.data import DataLoader\n",
    "from torchvision import transforms\n",
    "\n",
    "from models.CNN import Network\n",
    "from src.data.data_utils import CorruptMNIST\n",
    "\n",
    "import numpy as np\n",
    "from tqdm import tqdm\n",
    "from matplotlib import pyplot as plt"
   ]
  },
  {
   "cell_type": "code",
   "execution_count": 2,
   "metadata": {},
   "outputs": [],
   "source": [
    "dir = \"../data/raw\"\n",
    "\n",
    "transform = transforms.Compose([transforms.ToTensor(),\n",
    "                            transforms.Normalize(0.13207851, 0.30989197)])\n",
    "train_dataset = CorruptMNIST(root_dir=dir, train=True, transform=transform)\n",
    "test_dataset = CorruptMNIST(root_dir=dir, train=False, transform=transform)"
   ]
  },
  {
   "cell_type": "code",
   "execution_count": 3,
   "metadata": {},
   "outputs": [],
   "source": [
    "# test length of data\n",
    "N_train = 25000 #40000\n",
    "N_test = 5000\n",
    "\n",
    "assert len(train_dataset) == N_train, \"Train dataset did not have the correct number of samples\"\n",
    "assert len(test_dataset) == N_test, \"Test dataset did not have the correct number of samples\"\n",
    "\n",
    "# test shape of data\n",
    "for idx in range(len(train_dataset)):\n",
    "    assert train_dataset[idx][0].shape == nn.Size([1, 28, 28]), \"Train samples did not have the correct shape\"\n",
    "for idx in range(len(test_dataset)):\n",
    "    assert test_dataset[idx][0].shape == nn.Size([1, 28, 28]), \"Test samples did not have the correct shape\"\n",
    "\n",
    "# test class representation\n",
    "assert nn.all(nn.unique(nn.tensor([label for image, label in train_dataset.data])) == nn.tensor([0, 1, 2, 3, 4, 5, 6, 7, 8, 9])), \"Train samples did not represent all classes\"\n",
    "assert nn.all(nn.unique(nn.tensor([label for image, label in test_dataset.data])) == nn.tensor([0, 1, 2, 3, 4, 5, 6, 7, 8, 9])), \"Test samples did not represent all classes\""
   ]
  },
  {
   "cell_type": "code",
   "execution_count": 25,
   "metadata": {},
   "outputs": [],
   "source": [
    "\n",
    "transform = transforms.Compose([transforms.ToTensor(),\n",
    "                            transforms.Normalize(0.13207851, 0.30989197)])\n",
    "    \n",
    "data_dir = \"../data/raw\"\n",
    "train_dataset = CorruptMNIST(root_dir=data_dir, train=True, transform=transform)\n",
    "\n",
    "batch_size=128\n",
    "lr=0.1\n",
    "\n",
    "model = Network(batch_size, lr, data_dir)\n",
    "\n",
    "# test shape of model output, use the first sample\n",
    "assert model(train_dataset[0][0]).shape == nn.Size([1, 10])\n",
    "assert nn.sum(nn.exp(model(train_dataset[0][0]))) == 1"
   ]
  }
 ],
 "metadata": {
  "kernelspec": {
   "display_name": "MLOps",
   "language": "python",
   "name": "python3"
  },
  "language_info": {
   "codemirror_mode": {
    "name": "ipython",
    "version": 3
   },
   "file_extension": ".py",
   "mimetype": "text/x-python",
   "name": "python",
   "nbconvert_exporter": "python",
   "pygments_lexer": "ipython3",
   "version": "3.10.8"
  },
  "orig_nbformat": 4,
  "vscode": {
   "interpreter": {
    "hash": "9ff5b4282d30cdb0dc4190fb927af8a9f3cf1b75188be6326386e18d121e1984"
   }
  }
 },
 "nbformat": 4,
 "nbformat_minor": 2
}
